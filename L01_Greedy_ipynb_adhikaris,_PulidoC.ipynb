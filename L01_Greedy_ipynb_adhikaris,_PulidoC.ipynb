{
  "nbformat": 4,
  "nbformat_minor": 0,
  "metadata": {
    "colab": {
      "provenance": [],
      "include_colab_link": true
    },
    "kernelspec": {
      "name": "python3",
      "display_name": "Python 3"
    }
  },
  "cells": [
    {
      "cell_type": "markdown",
      "metadata": {
        "id": "view-in-github",
        "colab_type": "text"
      },
      "source": [
        "<a href=\"https://colab.research.google.com/github/AdhikariSara/AdvancedSQL_Sara/blob/main/L01_Greedy_ipynb_adhikaris%2C_PulidoC.ipynb\" target=\"_parent\"><img src=\"https://colab.research.google.com/assets/colab-badge.svg\" alt=\"Open In Colab\"/></a>"
      ]
    },
    {
      "cell_type": "markdown",
      "metadata": {
        "id": "Ws6rXa1xv_gv"
      },
      "source": [
        "# [L01: Implementing Greedy TSP](https://docs.google.com/document/d/1JA_CWBXPN6whvJAemnJLvtYJ3Pbk84dTUolWO_QqosA/edit?usp=sharing)\n",
        "Written by Dr. Jan Pearce, Berea College\n",
        "\n",
        "Complete the code by meeting all linked requirements and fixing all FIXMEs\n",
        "\n",
        "## Your Name: Claudia Pulido and Sara Adhikari\n"
      ]
    },
    {
      "cell_type": "markdown",
      "metadata": {
        "id": "PvEpt0HPKq9X"
      },
      "source": [
        "**SUMMARY**: A brief summary description of the design and implementation, including how much your initial design plan evolved, the final result you achieved and the amount of time you spent as a programmer or programmers in accomplishing these results. This should be no more than two paragraphs.\n",
        "\n",
        "For this project, we implemented the Traveling Salesperson Problem (TSP) solution using a greedy algorithm. The design was straightforward, focusing on building a route by visiting the nearest unvisited node at each step. Initially, I thought the design would be more complex, but it turned out to be simpler with a clear structure. We made sure to complete all functions, from extracting data to calculating distances and visualizing the graph. We spent about X hours coding, testing, and debugging this solution.\n",
        "\n",
        "**PERSONNEL**: A description of who you worked with and on what sections.  It is expected that all collaboration is done as pair programming together. Also, note these collaborations in the code section itself.\n",
        "\n",
        "I worked with Clau throughout the project in a pair programming approach. We took turns as the driver and navigator, with me driving for tasks like setting up coordinates and Clau driving for tasks like implementing the distance calculation.\n",
        "\n",
        "**CHALLENGES**: Descriptions of the largest challenges you overcame and what made them challenging.\n",
        "\n",
        "The biggest challenge we faced was ensuring that the greedy algorithm produced a valid tour that returned to the starting point. It was tricky to figure out how to efficiently update the list of unvisited nodes while keeping track of the route.\n",
        "\n",
        "**INNOVATIONS**: Any innovations that were not specifically required by the assignment. These are not required, but should be highlighted if included.\n",
        "\n",
        "We didn't introduce major innovations beyond the assignment requirements, but we did optimize the way we handled the list of unvisited nodes to reduce unnecessary recalculations.\n",
        "\n",
        "**TESTING**: Describe how you tested this work.\n",
        "\n",
        "FIXME\n",
        "\n",
        "**ERRORS**: A list in bulleted form of all known errors and deficiencies.\n",
        "\n",
        "We tested the program by running it with different sets of data, including both small and medium-sized graphs. The graph visualization helped us confirm that the route was being correctly calculated.\n",
        "**COMMENTS**: A paragraph or so of your own comments on and reactions to the Lab.\n",
        "\n",
        "The algorithm might not always find the optimal route due to the limitations of the greedy approach.\n",
        "There could be occasional inaccuracies in floating-point distance calculations."
      ]
    },
    {
      "cell_type": "markdown",
      "metadata": {
        "id": "lRXe-Atyv30H"
      },
      "source": [
        "## Import Libraries"
      ]
    },
    {
      "cell_type": "code",
      "metadata": {
        "id": "b6koAGG2mhix"
      },
      "source": [
        "import networkx as nx\n",
        "import matplotlib.pyplot as plt\n",
        "import math\n",
        "from urllib.request import urlopen"
      ],
      "execution_count": null,
      "outputs": []
    },
    {
      "cell_type": "markdown",
      "metadata": {
        "id": "y-JqngNLmhVG"
      },
      "source": [
        "### Read data"
      ]
    },
    {
      "cell_type": "code",
      "metadata": {
        "id": "GzeEKA-nwLsJ",
        "outputId": "599bf940-88e3-4253-e2fa-3b5452e7b70b",
        "colab": {
          "base_uri": "https://localhost:8080/",
          "height": 153
        }
      },
      "source": [
        "tspdata = urlopen(\"http://cs.berea.edu/courses/csc445/data/tsp-small.txt\").read().decode('ASCII')\n",
        "print(tspdata)"
      ],
      "execution_count": null,
      "outputs": [
        {
          "output_type": "stream",
          "text": [
            "6\r\n",
            "1 5 \r\n",
            "3 7 \r\n",
            "5 11 \r\n",
            "3 5 \r\n",
            "5 7 \r\n",
            "7 9 \r\n",
            "\n"
          ],
          "name": "stdout"
        }
      ]
    },
    {
      "cell_type": "markdown",
      "metadata": {
        "id": "qGcB5022KlHL"
      },
      "source": [
        "## TSP Class"
      ]
    },
    {
      "cell_type": "code",
      "metadata": {
        "id": "KIzVOICElISX",
        "outputId": "419eb9f4-60fa-4a85-edd5-c560bcb6620a",
        "colab": {
          "base_uri": "https://localhost:8080/",
          "height": 297
        }
      },
      "source": [
        "\"\"\"\n",
        "\n",
        "Given certain input, it uses the greedy algorithm to plot a graph and output a file of the solution path\n",
        "\"\"\"\n",
        "\n",
        "class TSP:\n",
        "    def __init__(self):\n",
        "        \"\"\"Initialize the TSP class with default attributes.\"\"\"\n",
        "        self.dimension = None\n",
        "        self.nodeData = []\n",
        "        self.graph = nx.DiGraph()  # Directed graph\n",
        "        self.coords = {}\n",
        "        self.route = []\n",
        "\n",
        "    def extractData(self, data):\n",
        "        \"\"\"Extracts the number of vertices and their coordinates from the input data.\n",
        "\n",
        "        Pair programming: Navigator was Clau and the driver was Sara\n",
        "        \"\"\"\n",
        "        lines = data.strip().split('\\n')\n",
        "        self.dimension = int(lines[0].strip())  # First line: number of vertices\n",
        "        for line in lines[1:]:\n",
        "            x, y = map(int, line.strip().split())\n",
        "            self.nodeData.append((len(self.nodeData) + 1, x, y))  # Store node and coordinates\n",
        "\n",
        "    def setUpCoords(self):\n",
        "        \"\"\"Sets up the coordinates for each node in a dictionary as tuples.\n",
        "        Pair programming : Driver was Sara and the navigator was Clau\n",
        "        \"\"\"\n",
        "       # goes over each node in the list `self.nodeData`\n",
        "        for node in self.nodeData:\n",
        "            node_id = node[0]\n",
        "            x_coord = node[1]\n",
        "            y_coord = node[2]\n",
        "            self.coords[node_id] = (x_coord, y_coord) # Store the coordinates  as a tuple in the dictionary `self.coords`with the node ID as the key\n",
        "\n",
        "    def calculateDistance(self, a, b):\n",
        "        \"\"\"Calculates the distance between points a and then points b.\n",
        "         Arguments:\n",
        "        a (tuple): The coordinates of the first point as (x, y).\n",
        "        b (tuple): The coordinates of the second point as (x, y).\n",
        "\n",
        "    Returns:\n",
        "        float: The distance between the two points using the distance formula\n",
        "\n",
        "        Pair programming: Driver was Clau and the navigator was Sara\n",
        "\n",
        "        \"\"\"\n",
        "        return math.sqrt((a[0] - b[0])**2 + (a[1] - b[1])**2) # first,calculates the squared difference between the x coordinates of the two points,\n",
        "       # then, it calculates the squared difference between the y coordinates of the two points, and then finally\n",
        "       # it gets the squared differences and take the square root to get the final distance\n",
        "\n",
        "\n",
        "    def getRoute(self, current, visits=[], nVisits=[], needList=True):\n",
        "        \"\"\"Computes the route using the greedy algorithm by making the list of nodes to be visited.\n",
        "        Arguments:\n",
        "        current (int): the id of the current node (starting point).\n",
        "        visits (list) list of nodes that have been visited.\n",
        "        nVisits (list): list of nodes that have not been visited. .\n",
        "        needList (bool): flag indicating whether to initialize the list of nodes to visit.\n",
        "\n",
        "        Pair programming: Driver was sara, and navigator was clau.\n",
        "\n",
        "    \"\"\"\n",
        "        if needList:\n",
        "            nVisits = self.listPlaces()  # starts the list of nodes that have not been visited yet\n",
        "\n",
        "        while nVisits:\n",
        "            visits.append(current)        # adds the current node to the list of visited nodes\n",
        "\n",
        "            nVisits = self.cleanUpList(visits, nVisits)     # updates the list of nodes not visited by removing the nodes that have been visited\n",
        "\n",
        "\n",
        "            if not nVisits:  # No more nodes to visit\n",
        "                break\n",
        "\n",
        "            # finds the nearest city\n",
        "            nearest_city = min(nVisits, key=lambda x: self.calculateDistance(self.coords[current], self.coords[x]))\n",
        "            self.route.append(nearest_city)\n",
        "            current = nearest_city          # updates the current node to be the nearest node\n",
        "\n",
        "\n",
        "        # Ensure that the route is properly completed\n",
        "        if visits and visits[0] != current:\n",
        "            self.route.append(visits[0])\n",
        "\n",
        "    def beGreedy(self, start):\n",
        "        \"\"\"Executes the greedy algorithm to find the route.\n",
        "    Arguments:\n",
        "        start (int): The ID of the starting node for the route.\n",
        "        Pair prog: Clau was the Driver and Sara was the navigator\n",
        "\n",
        "    \"\"\"\n",
        "        self.route = [start] # starts the route with the starting node\n",
        "\n",
        "        self.getRoute(start) # does the route using the greedy algorithm starting from the start node\n",
        "\n",
        "        self.route.append(start)  # returns to the starting city to complete the tour\n",
        "\n",
        "    def listPlaces(self):\n",
        "        \"\"\"Creates a list of all node ids from nodeData.\n",
        "        pair programming: Sara was the driver and Clau was the navigator\n",
        "\n",
        "        \"\"\"\n",
        "        return [node[0] for node in self.nodeData]\n",
        "\n",
        "    def cleanUpList(self, visited, notVisited):\n",
        "        \"\"\"Removes items in visited from notVisited.\n",
        "\n",
        "        Arguments:\n",
        "            visited {list}\n",
        "            notVisited {list}\n",
        "        Returns:\n",
        "            [list] -- a list of notVisited - visited\n",
        "\n",
        "        Pair programming: this one we got it from the code already provided.\n",
        "        \"\"\"\n",
        "        for item in visited: # goes over each item in the `visited` list\n",
        "            if item in notVisited: # if the item is found in the `notVisited` list\n",
        "                notVisited.remove(item)  # remove the item from the `notVisited` list\n",
        "\n",
        "        return notVisited   # return the updated list of nodes that are still not visited\n",
        "\n",
        "    def addNodes(self):\n",
        "        \"\"\"Adds nodes to the NetworkX graph.\"\"\"\n",
        "        for everything in self.nodeData:\n",
        "            node = everything[0]\n",
        "            self.graph.add_node(node, pos=self.coords[node])\n",
        "\n",
        "    def addEdges(self):\n",
        "        \"\"\"adds edges to the NetworkX graph.\n",
        "          pair programming: we got this one from the provided code as well.\n",
        "\n",
        "        \"\"\"\n",
        "        x = 0\n",
        "        while x < len(self.route) - 1:\n",
        "            self.graph.add_edge(self.route[x], self.route[x + 1],\n",
        "                                weight=self.calculateDistance(self.coords[self.route[x]], self.coords[self.route[x + 1]]))\n",
        "            x += 1\n",
        "\n",
        "    def showGraph(self):\n",
        "        \"\"\"shows the graph using the imported libraries we used.\n",
        "        pair programming: it comes also from the original code written by Dr. Pearce\n",
        "\n",
        "        \"\"\"\n",
        "        # get labels and coordinates for the graph\n",
        "        coords = nx.get_node_attributes(self.graph, 'pos')\n",
        "        labels = nx.get_edge_attributes(self.graph, 'weight')\n",
        "        # draw nodes in their coordinates\n",
        "        nx.draw(self.graph, coords)\n",
        "        nx.draw_networkx_labels(self.graph, coords)\n",
        "        # draw edges with their weights\n",
        "        nx.draw_networkx_edge_labels(self.graph, coords, edge_labels=labels)\n",
        "        plt.show()\n",
        "\n",
        "\n",
        "    def printTour(self):\n",
        "        \"\"\"Prints the tour in the required format.\n",
        "        Pair programming: Clau was the driver and Sara the navigator\n",
        "        \"\"\"\n",
        "        tour_string = f\"'''{self.dimension}\\n\"\n",
        "        for node in self.route: # goes over each node in the route\n",
        "            x, y = self.coords[node] #gets the x and y coordinates of the current node from the coords dictionary\n",
        "            tour_string += f\"{x} {y}\\n\"\n",
        "        tour_string += \"'''\"\n",
        "        print(tour_string) # print the formatted tour string\n",
        "\n",
        "\n",
        "def main():\n",
        "    \"\"\"\n",
        "    Main function to execute the Traveling Salesperson Problem (TSP) solution.\n",
        "    \"\"\"\n",
        "    tsp = TSP()\n",
        "\n",
        "    # Extract data from the URL\n",
        "    tspdata = urlopen(\"https://cs.berea.edu/courses/csc445/data/tsp-small.txt\").read().decode('ASCII')\n",
        "    tsp.extractData(tspdata)\n",
        "    tsp.setUpCoords()\n",
        "    tsp.addNodes()\n",
        "    tsp.beGreedy(1)  # Starting node can be adjusted as needed\n",
        "    tsp.addEdges()\n",
        "    tsp.showGraph()\n",
        "    tsp.printTour()  # Print the tour in the required format\n",
        "\n",
        "if __name__ == \"__main__\":\n",
        "    main()"
      ],
      "execution_count": null,
      "outputs": [
        {
          "output_type": "error",
          "ename": "NameError",
          "evalue": "name 'urlopen' is not defined",
          "traceback": [
            "\u001b[0;31m---------------------------------------------------------------------------\u001b[0m",
            "\u001b[0;31mNameError\u001b[0m                                 Traceback (most recent call last)",
            "\u001b[0;32m<ipython-input-3-f4e179fec3a5>\u001b[0m in \u001b[0;36m<cell line: 185>\u001b[0;34m()\u001b[0m\n\u001b[1;32m    184\u001b[0m \u001b[0;34m\u001b[0m\u001b[0m\n\u001b[1;32m    185\u001b[0m \u001b[0;32mif\u001b[0m \u001b[0m__name__\u001b[0m \u001b[0;34m==\u001b[0m \u001b[0;34m\"__main__\"\u001b[0m\u001b[0;34m:\u001b[0m\u001b[0;34m\u001b[0m\u001b[0;34m\u001b[0m\u001b[0m\n\u001b[0;32m--> 186\u001b[0;31m     \u001b[0mmain\u001b[0m\u001b[0;34m(\u001b[0m\u001b[0;34m)\u001b[0m\u001b[0;34m\u001b[0m\u001b[0;34m\u001b[0m\u001b[0m\n\u001b[0m",
            "\u001b[0;32m<ipython-input-3-f4e179fec3a5>\u001b[0m in \u001b[0;36mmain\u001b[0;34m()\u001b[0m\n\u001b[1;32m    174\u001b[0m \u001b[0;34m\u001b[0m\u001b[0m\n\u001b[1;32m    175\u001b[0m     \u001b[0;31m# Extract data from the URL\u001b[0m\u001b[0;34m\u001b[0m\u001b[0;34m\u001b[0m\u001b[0m\n\u001b[0;32m--> 176\u001b[0;31m     \u001b[0mtspdata\u001b[0m \u001b[0;34m=\u001b[0m \u001b[0murlopen\u001b[0m\u001b[0;34m(\u001b[0m\u001b[0;34m\"https://cs.berea.edu/courses/csc445/data/tsp-small.txt\"\u001b[0m\u001b[0;34m)\u001b[0m\u001b[0;34m.\u001b[0m\u001b[0mread\u001b[0m\u001b[0;34m(\u001b[0m\u001b[0;34m)\u001b[0m\u001b[0;34m.\u001b[0m\u001b[0mdecode\u001b[0m\u001b[0;34m(\u001b[0m\u001b[0;34m'ASCII'\u001b[0m\u001b[0;34m)\u001b[0m\u001b[0;34m\u001b[0m\u001b[0;34m\u001b[0m\u001b[0m\n\u001b[0m\u001b[1;32m    177\u001b[0m     \u001b[0mtsp\u001b[0m\u001b[0;34m.\u001b[0m\u001b[0mextractData\u001b[0m\u001b[0;34m(\u001b[0m\u001b[0mtspdata\u001b[0m\u001b[0;34m)\u001b[0m\u001b[0;34m\u001b[0m\u001b[0;34m\u001b[0m\u001b[0m\n\u001b[1;32m    178\u001b[0m     \u001b[0mtsp\u001b[0m\u001b[0;34m.\u001b[0m\u001b[0msetUpCoords\u001b[0m\u001b[0;34m(\u001b[0m\u001b[0;34m)\u001b[0m\u001b[0;34m\u001b[0m\u001b[0;34m\u001b[0m\u001b[0m\n",
            "\u001b[0;31mNameError\u001b[0m: name 'urlopen' is not defined"
          ]
        }
      ]
    },
    {
      "cell_type": "markdown",
      "metadata": {
        "id": "-6HarsXemeKP"
      },
      "source": []
    }
  ]
}